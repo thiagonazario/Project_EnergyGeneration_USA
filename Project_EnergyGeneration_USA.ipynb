{
 "cells": [
  {
   "cell_type": "markdown",
   "metadata": {},
   "source": [
    "image here"
   ]
  },
  {
   "cell_type": "markdown",
   "metadata": {},
   "source": [
    "- quais tipos de energia vem crescendo?\n",
    "- tipos de energias que vem perdendo espaço\n",
    "- energia limpas x energias poluentes\n",
    "- a produção total de energia vem cresendo ou diminuindo?\n",
    "- quais energias interferem diretamente na produção total?\n",
    "- "
   ]
  },
  {
   "cell_type": "markdown",
   "metadata": {},
   "source": [
    "# *Project About Energy Generation on USA*"
   ]
  },
  {
   "cell_type": "code",
   "execution_count": 2,
   "metadata": {},
   "outputs": [],
   "source": [
    "import pandas as pd"
   ]
  },
  {
   "cell_type": "code",
   "execution_count": 3,
   "metadata": {},
   "outputs": [],
   "source": [
    "path = 'C:/my_workspace/Github/Project_EnergyGeneration_USA/data/'\n",
    "df = pd.read_csv(path + 'Net_generation_United_States_all_sectors_monthly.csv')"
   ]
  },
  {
   "cell_type": "code",
   "execution_count": 4,
   "metadata": {},
   "outputs": [
    {
     "name": "stdout",
     "output_type": "stream",
     "text": [
      "<class 'pandas.core.frame.DataFrame'>\n",
      "RangeIndex: 273 entries, 0 to 272\n",
      "Data columns (total 8 columns):\n",
      " #   Column                                             Non-Null Count  Dtype  \n",
      "---  ------                                             --------------  -----  \n",
      " 0   Month                                              273 non-null    object \n",
      " 1   all fuels (utility-scale) thousand megawatthours   273 non-null    float64\n",
      " 2   coal thousand megawatthours                        273 non-null    float64\n",
      " 3   natural gas thousand megawatthours                 273 non-null    float64\n",
      " 4   nuclear thousand megawatthours                     273 non-null    float64\n",
      " 5   conventional hydroelectric thousand megawatthours  273 non-null    float64\n",
      " 6   wind thousand megawatthours                        273 non-null    float64\n",
      " 7   all solar thousand megawatthours                   117 non-null    float64\n",
      "dtypes: float64(7), object(1)\n",
      "memory usage: 17.2+ KB\n"
     ]
    },
    {
     "data": {
      "text/html": [
       "<div>\n",
       "<style scoped>\n",
       "    .dataframe tbody tr th:only-of-type {\n",
       "        vertical-align: middle;\n",
       "    }\n",
       "\n",
       "    .dataframe tbody tr th {\n",
       "        vertical-align: top;\n",
       "    }\n",
       "\n",
       "    .dataframe thead th {\n",
       "        text-align: right;\n",
       "    }\n",
       "</style>\n",
       "<table border=\"1\" class=\"dataframe\">\n",
       "  <thead>\n",
       "    <tr style=\"text-align: right;\">\n",
       "      <th></th>\n",
       "      <th>Month</th>\n",
       "      <th>all fuels (utility-scale) thousand megawatthours</th>\n",
       "      <th>coal thousand megawatthours</th>\n",
       "      <th>natural gas thousand megawatthours</th>\n",
       "      <th>nuclear thousand megawatthours</th>\n",
       "      <th>conventional hydroelectric thousand megawatthours</th>\n",
       "      <th>wind thousand megawatthours</th>\n",
       "      <th>all solar thousand megawatthours</th>\n",
       "    </tr>\n",
       "  </thead>\n",
       "  <tbody>\n",
       "    <tr>\n",
       "      <th>0</th>\n",
       "      <td>Sep-23</td>\n",
       "      <td>358136.2599</td>\n",
       "      <td>60005.67580</td>\n",
       "      <td>164466.3568</td>\n",
       "      <td>65559.710</td>\n",
       "      <td>16496.04043</td>\n",
       "      <td>28193.29153</td>\n",
       "      <td>22192.58066</td>\n",
       "    </tr>\n",
       "    <tr>\n",
       "      <th>1</th>\n",
       "      <td>Aug-23</td>\n",
       "      <td>423934.2574</td>\n",
       "      <td>78184.50094</td>\n",
       "      <td>199993.0422</td>\n",
       "      <td>69744.023</td>\n",
       "      <td>21145.86624</td>\n",
       "      <td>28504.16694</td>\n",
       "      <td>25350.26673</td>\n",
       "    </tr>\n",
       "    <tr>\n",
       "      <th>2</th>\n",
       "      <td>Jul-23</td>\n",
       "      <td>425611.3284</td>\n",
       "      <td>78909.85665</td>\n",
       "      <td>200506.7592</td>\n",
       "      <td>69887.588</td>\n",
       "      <td>21237.80849</td>\n",
       "      <td>27867.90946</td>\n",
       "      <td>26538.55725</td>\n",
       "    </tr>\n",
       "    <tr>\n",
       "      <th>3</th>\n",
       "      <td>Jun-23</td>\n",
       "      <td>356672.3849</td>\n",
       "      <td>57697.75156</td>\n",
       "      <td>161692.7028</td>\n",
       "      <td>64965.076</td>\n",
       "      <td>19470.63281</td>\n",
       "      <td>27505.93547</td>\n",
       "      <td>25034.48613</td>\n",
       "    </tr>\n",
       "    <tr>\n",
       "      <th>4</th>\n",
       "      <td>May-23</td>\n",
       "      <td>327532.6236</td>\n",
       "      <td>43852.22406</td>\n",
       "      <td>137795.2922</td>\n",
       "      <td>61472.883</td>\n",
       "      <td>27479.13413</td>\n",
       "      <td>32018.24592</td>\n",
       "      <td>24462.37510</td>\n",
       "    </tr>\n",
       "  </tbody>\n",
       "</table>\n",
       "</div>"
      ],
      "text/plain": [
       "    Month  all fuels (utility-scale) thousand megawatthours  \\\n",
       "0  Sep-23                                       358136.2599   \n",
       "1  Aug-23                                       423934.2574   \n",
       "2  Jul-23                                       425611.3284   \n",
       "3  Jun-23                                       356672.3849   \n",
       "4  May-23                                       327532.6236   \n",
       "\n",
       "   coal thousand megawatthours  natural gas thousand megawatthours  \\\n",
       "0                  60005.67580                         164466.3568   \n",
       "1                  78184.50094                         199993.0422   \n",
       "2                  78909.85665                         200506.7592   \n",
       "3                  57697.75156                         161692.7028   \n",
       "4                  43852.22406                         137795.2922   \n",
       "\n",
       "   nuclear thousand megawatthours  \\\n",
       "0                       65559.710   \n",
       "1                       69744.023   \n",
       "2                       69887.588   \n",
       "3                       64965.076   \n",
       "4                       61472.883   \n",
       "\n",
       "   conventional hydroelectric thousand megawatthours  \\\n",
       "0                                        16496.04043   \n",
       "1                                        21145.86624   \n",
       "2                                        21237.80849   \n",
       "3                                        19470.63281   \n",
       "4                                        27479.13413   \n",
       "\n",
       "   wind thousand megawatthours  all solar thousand megawatthours  \n",
       "0                  28193.29153                       22192.58066  \n",
       "1                  28504.16694                       25350.26673  \n",
       "2                  27867.90946                       26538.55725  \n",
       "3                  27505.93547                       25034.48613  \n",
       "4                  32018.24592                       24462.37510  "
      ]
     },
     "execution_count": 4,
     "metadata": {},
     "output_type": "execute_result"
    }
   ],
   "source": [
    "df.info()\n",
    "df.head()"
   ]
  },
  {
   "cell_type": "code",
   "execution_count": 5,
   "metadata": {},
   "outputs": [
    {
     "data": {
      "text/plain": [
       "(273, 8)"
      ]
     },
     "execution_count": 5,
     "metadata": {},
     "output_type": "execute_result"
    }
   ],
   "source": [
    "df.shape"
   ]
  },
  {
   "cell_type": "code",
   "execution_count": 6,
   "metadata": {},
   "outputs": [
    {
     "data": {
      "text/html": [
       "<div>\n",
       "<style scoped>\n",
       "    .dataframe tbody tr th:only-of-type {\n",
       "        vertical-align: middle;\n",
       "    }\n",
       "\n",
       "    .dataframe tbody tr th {\n",
       "        vertical-align: top;\n",
       "    }\n",
       "\n",
       "    .dataframe thead th {\n",
       "        text-align: right;\n",
       "    }\n",
       "</style>\n",
       "<table border=\"1\" class=\"dataframe\">\n",
       "  <thead>\n",
       "    <tr style=\"text-align: right;\">\n",
       "      <th></th>\n",
       "      <th>all fuels (utility-scale) thousand megawatthours</th>\n",
       "      <th>coal thousand megawatthours</th>\n",
       "      <th>natural gas thousand megawatthours</th>\n",
       "      <th>nuclear thousand megawatthours</th>\n",
       "      <th>conventional hydroelectric thousand megawatthours</th>\n",
       "      <th>wind thousand megawatthours</th>\n",
       "      <th>all solar thousand megawatthours</th>\n",
       "    </tr>\n",
       "  </thead>\n",
       "  <tbody>\n",
       "    <tr>\n",
       "      <th>count</th>\n",
       "      <td>273.000000</td>\n",
       "      <td>273.000000</td>\n",
       "      <td>273.000000</td>\n",
       "      <td>273.000000</td>\n",
       "      <td>273.000000</td>\n",
       "      <td>273.000000</td>\n",
       "      <td>117.000000</td>\n",
       "    </tr>\n",
       "    <tr>\n",
       "      <th>mean</th>\n",
       "      <td>337947.552655</td>\n",
       "      <td>127251.140876</td>\n",
       "      <td>94470.528113</td>\n",
       "      <td>65870.679758</td>\n",
       "      <td>22411.638500</td>\n",
       "      <td>13404.842666</td>\n",
       "      <td>9311.091148</td>\n",
       "    </tr>\n",
       "    <tr>\n",
       "      <th>std</th>\n",
       "      <td>35061.580185</td>\n",
       "      <td>39820.581811</td>\n",
       "      <td>34945.840051</td>\n",
       "      <td>4810.864494</td>\n",
       "      <td>3970.188494</td>\n",
       "      <td>11655.653613</td>\n",
       "      <td>6193.340439</td>\n",
       "    </tr>\n",
       "    <tr>\n",
       "      <th>min</th>\n",
       "      <td>278078.871000</td>\n",
       "      <td>40078.668020</td>\n",
       "      <td>37966.927000</td>\n",
       "      <td>54547.338000</td>\n",
       "      <td>14367.418410</td>\n",
       "      <td>389.250000</td>\n",
       "      <td>1375.151550</td>\n",
       "    </tr>\n",
       "    <tr>\n",
       "      <th>25%</th>\n",
       "      <td>310602.963800</td>\n",
       "      <td>91145.411190</td>\n",
       "      <td>65631.018000</td>\n",
       "      <td>62638.950000</td>\n",
       "      <td>19470.632810</td>\n",
       "      <td>2442.129880</td>\n",
       "      <td>4142.592150</td>\n",
       "    </tr>\n",
       "    <tr>\n",
       "      <th>50%</th>\n",
       "      <td>329838.822400</td>\n",
       "      <td>135634.733300</td>\n",
       "      <td>91739.070090</td>\n",
       "      <td>65638.141000</td>\n",
       "      <td>22033.855740</td>\n",
       "      <td>11519.768420</td>\n",
       "      <td>8184.135870</td>\n",
       "    </tr>\n",
       "    <tr>\n",
       "      <th>75%</th>\n",
       "      <td>358630.102200</td>\n",
       "      <td>159439.517300</td>\n",
       "      <td>117351.492900</td>\n",
       "      <td>69870.978000</td>\n",
       "      <td>25079.216970</td>\n",
       "      <td>22100.722070</td>\n",
       "      <td>12437.957510</td>\n",
       "    </tr>\n",
       "    <tr>\n",
       "      <th>max</th>\n",
       "      <td>425611.328400</td>\n",
       "      <td>190134.816300</td>\n",
       "      <td>200506.759200</td>\n",
       "      <td>74649.040000</td>\n",
       "      <td>32607.115140</td>\n",
       "      <td>46167.094770</td>\n",
       "      <td>26538.557250</td>\n",
       "    </tr>\n",
       "  </tbody>\n",
       "</table>\n",
       "</div>"
      ],
      "text/plain": [
       "       all fuels (utility-scale) thousand megawatthours  \\\n",
       "count                                        273.000000   \n",
       "mean                                      337947.552655   \n",
       "std                                        35061.580185   \n",
       "min                                       278078.871000   \n",
       "25%                                       310602.963800   \n",
       "50%                                       329838.822400   \n",
       "75%                                       358630.102200   \n",
       "max                                       425611.328400   \n",
       "\n",
       "       coal thousand megawatthours  natural gas thousand megawatthours  \\\n",
       "count                   273.000000                          273.000000   \n",
       "mean                 127251.140876                        94470.528113   \n",
       "std                   39820.581811                        34945.840051   \n",
       "min                   40078.668020                        37966.927000   \n",
       "25%                   91145.411190                        65631.018000   \n",
       "50%                  135634.733300                        91739.070090   \n",
       "75%                  159439.517300                       117351.492900   \n",
       "max                  190134.816300                       200506.759200   \n",
       "\n",
       "       nuclear thousand megawatthours  \\\n",
       "count                      273.000000   \n",
       "mean                     65870.679758   \n",
       "std                       4810.864494   \n",
       "min                      54547.338000   \n",
       "25%                      62638.950000   \n",
       "50%                      65638.141000   \n",
       "75%                      69870.978000   \n",
       "max                      74649.040000   \n",
       "\n",
       "       conventional hydroelectric thousand megawatthours  \\\n",
       "count                                         273.000000   \n",
       "mean                                        22411.638500   \n",
       "std                                          3970.188494   \n",
       "min                                         14367.418410   \n",
       "25%                                         19470.632810   \n",
       "50%                                         22033.855740   \n",
       "75%                                         25079.216970   \n",
       "max                                         32607.115140   \n",
       "\n",
       "       wind thousand megawatthours  all solar thousand megawatthours  \n",
       "count                   273.000000                        117.000000  \n",
       "mean                  13404.842666                       9311.091148  \n",
       "std                   11655.653613                       6193.340439  \n",
       "min                     389.250000                       1375.151550  \n",
       "25%                    2442.129880                       4142.592150  \n",
       "50%                   11519.768420                       8184.135870  \n",
       "75%                   22100.722070                      12437.957510  \n",
       "max                   46167.094770                      26538.557250  "
      ]
     },
     "execution_count": 6,
     "metadata": {},
     "output_type": "execute_result"
    }
   ],
   "source": [
    "df.describe()"
   ]
  },
  {
   "cell_type": "markdown",
   "metadata": {},
   "source": [
    "*Alterando nomes das colunas.*"
   ]
  },
  {
   "cell_type": "code",
   "execution_count": 10,
   "metadata": {},
   "outputs": [
    {
     "data": {
      "text/plain": [
       "Index(['date', 'all_fuels_kMWh', 'coal_kMWh', 'natural_gas_kMWh',\n",
       "       'nuclear_kMWh', 'hydroelectric_kMWh', 'wind_kMWh', 'solar_kMWh'],\n",
       "      dtype='object')"
      ]
     },
     "execution_count": 10,
     "metadata": {},
     "output_type": "execute_result"
    }
   ],
   "source": [
    "df.rename(columns = {'all fuels (utility-scale) thousand megawatthours': 'all_fuels_kMWh',\n",
    "                    'coal thousand megawatthours': 'coal_kMWh',\n",
    "                    'natural gas thousand megawatthours': 'natural_gas_kMWh',\n",
    "                    'nuclear thousand megawatthours': 'nuclear_kMWh',\n",
    "                    'conventional hydroelectric thousand megawatthours': 'hydroelectric_kMWh',\n",
    "                    'wind thousand megawatthours': 'wind_kMWh',\n",
    "                    'all solar thousand megawatthours': 'solar_kMWh',\n",
    "                    'Month': 'date'}, inplace = True)\n",
    "\n",
    "df.columns"
   ]
  },
  {
   "cell_type": "code",
   "execution_count": 11,
   "metadata": {},
   "outputs": [
    {
     "data": {
      "text/html": [
       "<div>\n",
       "<style scoped>\n",
       "    .dataframe tbody tr th:only-of-type {\n",
       "        vertical-align: middle;\n",
       "    }\n",
       "\n",
       "    .dataframe tbody tr th {\n",
       "        vertical-align: top;\n",
       "    }\n",
       "\n",
       "    .dataframe thead th {\n",
       "        text-align: right;\n",
       "    }\n",
       "</style>\n",
       "<table border=\"1\" class=\"dataframe\">\n",
       "  <thead>\n",
       "    <tr style=\"text-align: right;\">\n",
       "      <th></th>\n",
       "      <th>date</th>\n",
       "      <th>all_fuels_kMWh</th>\n",
       "      <th>coal_kMWh</th>\n",
       "      <th>natural_gas_kMWh</th>\n",
       "      <th>nuclear_kMWh</th>\n",
       "      <th>hydroelectric_kMWh</th>\n",
       "      <th>wind_kMWh</th>\n",
       "      <th>solar_kMWh</th>\n",
       "    </tr>\n",
       "  </thead>\n",
       "  <tbody>\n",
       "    <tr>\n",
       "      <th>268</th>\n",
       "      <td>May-01</td>\n",
       "      <td>300491.621</td>\n",
       "      <td>151592.914</td>\n",
       "      <td>50934.205</td>\n",
       "      <td>61512.445</td>\n",
       "      <td>19175.635</td>\n",
       "      <td>635.029</td>\n",
       "      <td>NaN</td>\n",
       "    </tr>\n",
       "    <tr>\n",
       "      <th>269</th>\n",
       "      <td>Apr-01</td>\n",
       "      <td>278078.871</td>\n",
       "      <td>140670.654</td>\n",
       "      <td>45842.746</td>\n",
       "      <td>56003.026</td>\n",
       "      <td>18012.994</td>\n",
       "      <td>684.695</td>\n",
       "      <td>NaN</td>\n",
       "    </tr>\n",
       "    <tr>\n",
       "      <th>270</th>\n",
       "      <td>Mar-01</td>\n",
       "      <td>300706.544</td>\n",
       "      <td>155269.011</td>\n",
       "      <td>44364.414</td>\n",
       "      <td>62140.712</td>\n",
       "      <td>20477.189</td>\n",
       "      <td>532.120</td>\n",
       "      <td>NaN</td>\n",
       "    </tr>\n",
       "    <tr>\n",
       "      <th>271</th>\n",
       "      <td>Feb-01</td>\n",
       "      <td>282940.198</td>\n",
       "      <td>149735.484</td>\n",
       "      <td>37966.927</td>\n",
       "      <td>61272.407</td>\n",
       "      <td>17472.889</td>\n",
       "      <td>431.242</td>\n",
       "      <td>NaN</td>\n",
       "    </tr>\n",
       "    <tr>\n",
       "      <th>272</th>\n",
       "      <td>Jan-01</td>\n",
       "      <td>332493.160</td>\n",
       "      <td>177287.111</td>\n",
       "      <td>42388.663</td>\n",
       "      <td>68707.077</td>\n",
       "      <td>18852.048</td>\n",
       "      <td>389.250</td>\n",
       "      <td>NaN</td>\n",
       "    </tr>\n",
       "  </tbody>\n",
       "</table>\n",
       "</div>"
      ],
      "text/plain": [
       "       date  all_fuels_kMWh   coal_kMWh  natural_gas_kMWh  nuclear_kMWh  \\\n",
       "268  May-01      300491.621  151592.914         50934.205     61512.445   \n",
       "269  Apr-01      278078.871  140670.654         45842.746     56003.026   \n",
       "270  Mar-01      300706.544  155269.011         44364.414     62140.712   \n",
       "271  Feb-01      282940.198  149735.484         37966.927     61272.407   \n",
       "272  Jan-01      332493.160  177287.111         42388.663     68707.077   \n",
       "\n",
       "     hydroelectric_kMWh  wind_kMWh  solar_kMWh  \n",
       "268           19175.635    635.029         NaN  \n",
       "269           18012.994    684.695         NaN  \n",
       "270           20477.189    532.120         NaN  \n",
       "271           17472.889    431.242         NaN  \n",
       "272           18852.048    389.250         NaN  "
      ]
     },
     "execution_count": 11,
     "metadata": {},
     "output_type": "execute_result"
    }
   ],
   "source": [
    "df.tail()"
   ]
  },
  {
   "cell_type": "markdown",
   "metadata": {},
   "source": [
    "*Temos valores nulos.*"
   ]
  },
  {
   "cell_type": "code",
   "execution_count": 12,
   "metadata": {},
   "outputs": [
    {
     "data": {
      "text/plain": [
       "date                    0\n",
       "all_fuels_kMWh          0\n",
       "coal_kMWh               0\n",
       "natural_gas_kMWh        0\n",
       "nuclear_kMWh            0\n",
       "hydroelectric_kMWh      0\n",
       "wind_kMWh               0\n",
       "solar_kMWh            156\n",
       "dtype: int64"
      ]
     },
     "execution_count": 12,
     "metadata": {},
     "output_type": "execute_result"
    }
   ],
   "source": [
    "df.isna().sum()"
   ]
  },
  {
   "cell_type": "markdown",
   "metadata": {},
   "source": [
    "*Valores nulos apenas na coluna de energia solar.*\n",
    "\n",
    "*Vamos olhar mais de perto.*"
   ]
  },
  {
   "cell_type": "code",
   "execution_count": 21,
   "metadata": {},
   "outputs": [
    {
     "data": {
      "text/plain": [
       "0.42857142857142855"
      ]
     },
     "execution_count": 21,
     "metadata": {},
     "output_type": "execute_result"
    }
   ],
   "source": [
    "df.solar_kMWh.value_counts().sum() / df.shape[0]"
   ]
  },
  {
   "cell_type": "markdown",
   "metadata": {},
   "source": [
    "*Porcentagem muito relevante para remoção.*\n",
    "\n",
    "*Vamos olhar os dados.*"
   ]
  },
  {
   "cell_type": "code",
   "execution_count": 18,
   "metadata": {},
   "outputs": [
    {
     "data": {
      "text/plain": [
       "array(['Dec-13', 'Nov-13', 'Oct-13', 'Sep-13', 'Aug-13', 'Jul-13',\n",
       "       'Jun-13', 'May-13', 'Apr-13', 'Mar-13', 'Feb-13', 'Jan-13',\n",
       "       'Dec-12', 'Nov-12', 'Oct-12', 'Sep-12', 'Aug-12', 'Jul-12',\n",
       "       'Jun-12', 'May-12', 'Apr-12', 'Mar-12', 'Feb-12', 'Jan-12',\n",
       "       'Dec-11', 'Nov-11', 'Oct-11', 'Sep-11', 'Aug-11', 'Jul-11',\n",
       "       'Jun-11', 'May-11', 'Apr-11', 'Mar-11', 'Feb-11', 'Jan-11',\n",
       "       'Dec-10', 'Nov-10', 'Oct-10', 'Sep-10', 'Aug-10', 'Jul-10',\n",
       "       'Jun-10', 'May-10', 'Apr-10', 'Mar-10', 'Feb-10', 'Jan-10',\n",
       "       'Dec-09', 'Nov-09', 'Oct-09', 'Sep-09', 'Aug-09', 'Jul-09',\n",
       "       'Jun-09', 'May-09', 'Apr-09', 'Mar-09', 'Feb-09', 'Jan-09',\n",
       "       'Dec-08', 'Nov-08', 'Oct-08', 'Sep-08', 'Aug-08', 'Jul-08',\n",
       "       'Jun-08', 'May-08', 'Apr-08', 'Mar-08', 'Feb-08', 'Jan-08',\n",
       "       'Dec-07', 'Nov-07', 'Oct-07', 'Sep-07', 'Aug-07', 'Jul-07',\n",
       "       'Jun-07', 'May-07', 'Apr-07', 'Mar-07', 'Feb-07', 'Jan-07',\n",
       "       'Dec-06', 'Nov-06', 'Oct-06', 'Sep-06', 'Aug-06', 'Jul-06',\n",
       "       'Jun-06', 'May-06', 'Apr-06', 'Mar-06', 'Feb-06', 'Jan-06',\n",
       "       'Dec-05', 'Nov-05', 'Oct-05', 'Sep-05', 'Aug-05', 'Jul-05',\n",
       "       'Jun-05', 'May-05', 'Apr-05', 'Mar-05', 'Feb-05', 'Jan-05',\n",
       "       'Dec-04', 'Nov-04', 'Oct-04', 'Sep-04', 'Aug-04', 'Jul-04',\n",
       "       'Jun-04', 'May-04', 'Apr-04', 'Mar-04', 'Feb-04', 'Jan-04',\n",
       "       'Dec-03', 'Nov-03', 'Oct-03', 'Sep-03', 'Aug-03', 'Jul-03',\n",
       "       'Jun-03', 'May-03', 'Apr-03', 'Mar-03', 'Feb-03', 'Jan-03',\n",
       "       'Dec-02', 'Nov-02', 'Oct-02', 'Sep-02', 'Aug-02', 'Jul-02',\n",
       "       'Jun-02', 'May-02', 'Apr-02', 'Mar-02', 'Feb-02', 'Jan-02',\n",
       "       'Dec-01', 'Nov-01', 'Oct-01', 'Sep-01', 'Aug-01', 'Jul-01',\n",
       "       'Jun-01', 'May-01', 'Apr-01', 'Mar-01', 'Feb-01', 'Jan-01'],\n",
       "      dtype=object)"
      ]
     },
     "execution_count": 18,
     "metadata": {},
     "output_type": "execute_result"
    }
   ],
   "source": [
    "df.solar_kMWh.unique()\n",
    "\n",
    "filtered = df.loc[df['solar_kMWh'].isna()]\n",
    "\n",
    "filtered.date.unique()"
   ]
  },
  {
   "cell_type": "markdown",
   "metadata": {},
   "source": [
    "*Ao que tudo indica, ou não há geração de energia solar a antes de 2014 ou não houve registro.*\n",
    "\n",
    "*Substituiremos por 0.*"
   ]
  },
  {
   "cell_type": "code",
   "execution_count": 24,
   "metadata": {},
   "outputs": [
    {
     "data": {
      "text/plain": [
       "date                  0\n",
       "all_fuels_kMWh        0\n",
       "coal_kMWh             0\n",
       "natural_gas_kMWh      0\n",
       "nuclear_kMWh          0\n",
       "hydroelectric_kMWh    0\n",
       "wind_kMWh             0\n",
       "solar_kMWh            0\n",
       "dtype: int64"
      ]
     },
     "execution_count": 24,
     "metadata": {},
     "output_type": "execute_result"
    }
   ],
   "source": [
    "df.solar_kMWh.fillna(0, inplace=True)\n",
    "\n",
    "df.isna().sum()"
   ]
  },
  {
   "cell_type": "markdown",
   "metadata": {},
   "source": [
    "*Verificando duplicados.*"
   ]
  },
  {
   "cell_type": "code",
   "execution_count": 25,
   "metadata": {},
   "outputs": [
    {
     "data": {
      "text/plain": [
       "0"
      ]
     },
     "execution_count": 25,
     "metadata": {},
     "output_type": "execute_result"
    }
   ],
   "source": [
    "df.duplicated().sum()"
   ]
  },
  {
   "cell_type": "markdown",
   "metadata": {},
   "source": [
    "*Não há duplicados.*\n",
    "\n",
    "*Vamos olhar agora os formatos dos nossos dados.*"
   ]
  }
 ],
 "metadata": {
  "kernelspec": {
   "display_name": "Python 3",
   "language": "python",
   "name": "python3"
  },
  "language_info": {
   "codemirror_mode": {
    "name": "ipython",
    "version": 3
   },
   "file_extension": ".py",
   "mimetype": "text/x-python",
   "name": "python",
   "nbconvert_exporter": "python",
   "pygments_lexer": "ipython3",
   "version": "3.11.4"
  }
 },
 "nbformat": 4,
 "nbformat_minor": 2
}
